{
 "cells": [
  {
   "cell_type": "markdown",
   "metadata": {},
   "source": [
    "# Visualize a dataset"
   ]
  },
  {
   "cell_type": "code",
   "execution_count": null,
   "metadata": {},
   "outputs": [],
   "source": [
    "# ! pip install ipynb-path"
   ]
  },
  {
   "cell_type": "code",
   "execution_count": null,
   "metadata": {},
   "outputs": [],
   "source": []
  },
  {
   "cell_type": "code",
   "execution_count": null,
   "metadata": {},
   "outputs": [],
   "source": [
    "import pandas as pd"
   ]
  },
  {
   "cell_type": "code",
   "execution_count": null,
   "metadata": {},
   "outputs": [],
   "source": [
    "# Config the pandas dataframe to show in a specific format\n",
    "\n",
    "pd.set_option('display.max_columns', 10)\n"
   ]
  },
  {
   "cell_type": "markdown",
   "metadata": {},
   "source": [
    "Read the dataframe"
   ]
  },
  {
   "cell_type": "code",
   "execution_count": null,
   "metadata": {},
   "outputs": [],
   "source": [
    "df = pd.read_csv(\"data.csv\")"
   ]
  },
  {
   "cell_type": "code",
   "execution_count": null,
   "metadata": {},
   "outputs": [],
   "source": [
    "df = df[df['a'] > 0]\n",
    "df = df[df['b'] < 10]"
   ]
  },
  {
   "cell_type": "code",
   "execution_count": null,
   "metadata": {},
   "outputs": [
    {
     "data": {
      "text/html": [
       "<div>\n",
       "<style scoped>\n",
       "    .dataframe tbody tr th:only-of-type {\n",
       "        vertical-align: middle;\n",
       "    }\n",
       "\n",
       "    .dataframe tbody tr th {\n",
       "        vertical-align: top;\n",
       "    }\n",
       "\n",
       "    .dataframe thead th {\n",
       "        text-align: right;\n",
       "    }\n",
       "</style>\n",
       "<table border=\"1\" class=\"dataframe\">\n",
       "  <thead>\n",
       "    <tr style=\"text-align: right;\">\n",
       "      <th></th>\n",
       "      <th>a</th>\n",
       "      <th>b</th>\n",
       "    </tr>\n",
       "  </thead>\n",
       "  <tbody>\n",
       "    <tr>\n",
       "      <th>count</th>\n",
       "      <td>4.000000</td>\n",
       "      <td>4.000000</td>\n",
       "    </tr>\n",
       "    <tr>\n",
       "      <th>mean</th>\n",
       "      <td>4.000000</td>\n",
       "      <td>5.000000</td>\n",
       "    </tr>\n",
       "    <tr>\n",
       "      <th>std</th>\n",
       "      <td>2.581989</td>\n",
       "      <td>2.581989</td>\n",
       "    </tr>\n",
       "    <tr>\n",
       "      <th>min</th>\n",
       "      <td>1.000000</td>\n",
       "      <td>2.000000</td>\n",
       "    </tr>\n",
       "    <tr>\n",
       "      <th>25%</th>\n",
       "      <td>2.500000</td>\n",
       "      <td>3.500000</td>\n",
       "    </tr>\n",
       "    <tr>\n",
       "      <th>50%</th>\n",
       "      <td>4.000000</td>\n",
       "      <td>5.000000</td>\n",
       "    </tr>\n",
       "    <tr>\n",
       "      <th>75%</th>\n",
       "      <td>5.500000</td>\n",
       "      <td>6.500000</td>\n",
       "    </tr>\n",
       "    <tr>\n",
       "      <th>max</th>\n",
       "      <td>7.000000</td>\n",
       "      <td>8.000000</td>\n",
       "    </tr>\n",
       "  </tbody>\n",
       "</table>\n",
       "</div>"
      ],
      "text/plain": [
       "              a         b\n",
       "count  4.000000  4.000000\n",
       "mean   4.000000  5.000000\n",
       "std    2.581989  2.581989\n",
       "min    1.000000  2.000000\n",
       "25%    2.500000  3.500000\n",
       "50%    4.000000  5.000000\n",
       "75%    5.500000  6.500000\n",
       "max    7.000000  8.000000"
      ]
     },
     "metadata": {},
     "output_type": "display_data"
    }
   ],
   "source": [
    "df.describe()"
   ]
  },
  {
   "cell_type": "code",
   "execution_count": null,
   "metadata": {},
   "outputs": [
    {
     "data": {
      "text/html": [
       "<div>\n",
       "<style scoped>\n",
       "    .dataframe tbody tr th:only-of-type {\n",
       "        vertical-align: middle;\n",
       "    }\n",
       "\n",
       "    .dataframe tbody tr th {\n",
       "        vertical-align: top;\n",
       "    }\n",
       "\n",
       "    .dataframe thead th {\n",
       "        text-align: right;\n",
       "    }\n",
       "</style>\n",
       "<table border=\"1\" class=\"dataframe\">\n",
       "  <thead>\n",
       "    <tr style=\"text-align: right;\">\n",
       "      <th></th>\n",
       "      <th>a</th>\n",
       "      <th>b</th>\n",
       "    </tr>\n",
       "  </thead>\n",
       "  <tbody>\n",
       "    <tr>\n",
       "      <th>0</th>\n",
       "      <td>1</td>\n",
       "      <td>2</td>\n",
       "    </tr>\n",
       "    <tr>\n",
       "      <th>1</th>\n",
       "      <td>3</td>\n",
       "      <td>4</td>\n",
       "    </tr>\n",
       "    <tr>\n",
       "      <th>2</th>\n",
       "      <td>5</td>\n",
       "      <td>6</td>\n",
       "    </tr>\n",
       "    <tr>\n",
       "      <th>3</th>\n",
       "      <td>7</td>\n",
       "      <td>8</td>\n",
       "    </tr>\n",
       "  </tbody>\n",
       "</table>\n",
       "</div>"
      ],
      "text/plain": [
       "   a  b\n",
       "0  1  2\n",
       "1  3  4\n",
       "2  5  6\n",
       "3  7  8"
      ]
     },
     "metadata": {},
     "output_type": "display_data"
    }
   ],
   "source": [
    "df.head()"
   ]
  },
  {
   "cell_type": "code",
   "execution_count": null,
   "metadata": {},
   "outputs": [],
   "source": [
    "df2 = df[['b', 'a']]"
   ]
  },
  {
   "cell_type": "code",
   "execution_count": null,
   "metadata": {},
   "outputs": [],
   "source": [
    "df3 = df2.groupby('b').mean()"
   ]
  },
  {
   "cell_type": "code",
   "execution_count": null,
   "metadata": {},
   "outputs": [
    {
     "data": {
      "text/html": [
       "<div>\n",
       "<style scoped>\n",
       "    .dataframe tbody tr th:only-of-type {\n",
       "        vertical-align: middle;\n",
       "    }\n",
       "\n",
       "    .dataframe tbody tr th {\n",
       "        vertical-align: top;\n",
       "    }\n",
       "\n",
       "    .dataframe thead th {\n",
       "        text-align: right;\n",
       "    }\n",
       "</style>\n",
       "<table border=\"1\" class=\"dataframe\">\n",
       "  <thead>\n",
       "    <tr style=\"text-align: right;\">\n",
       "      <th></th>\n",
       "      <th>a</th>\n",
       "    </tr>\n",
       "    <tr>\n",
       "      <th>b</th>\n",
       "      <th></th>\n",
       "    </tr>\n",
       "  </thead>\n",
       "  <tbody>\n",
       "    <tr>\n",
       "      <th>2</th>\n",
       "      <td>1.0</td>\n",
       "    </tr>\n",
       "    <tr>\n",
       "      <th>4</th>\n",
       "      <td>3.0</td>\n",
       "    </tr>\n",
       "    <tr>\n",
       "      <th>6</th>\n",
       "      <td>5.0</td>\n",
       "    </tr>\n",
       "    <tr>\n",
       "      <th>8</th>\n",
       "      <td>7.0</td>\n",
       "    </tr>\n",
       "  </tbody>\n",
       "</table>\n",
       "</div>"
      ],
      "text/plain": [
       "     a\n",
       "b     \n",
       "2  1.0\n",
       "4  3.0\n",
       "6  5.0\n",
       "8  7.0"
      ]
     },
     "metadata": {},
     "output_type": "display_data"
    }
   ],
   "source": [
    "df3"
   ]
  },
  {
   "cell_type": "code",
   "execution_count": null,
   "metadata": {},
   "outputs": [
    {
     "data": {
      "text/plain": [
       "<Axes: xlabel='b'>"
      ]
     },
     "metadata": {},
     "output_type": "display_data"
    },
    {
     "data": {
      "image/png": "[encoded data removed]",
      "text/plain": [
       "<Figure size 640x480 with 1 Axes>"
      ]
     },
     "metadata": {},
     "output_type": "display_data"
    }
   ],
   "source": [
    "df3.plot()"
   ]
  },
  {
   "cell_type": "code",
   "execution_count": null,
   "metadata": {},
   "outputs": [
    {
     "data": {
      "text/plain": [
       "<Axes: xlabel='b'>"
      ]
     },
     "metadata": {},
     "output_type": "display_data"
    },
    {
     "data": {
      "image/png": "[encoded data removed]",
      "text/plain": [
       "<Figure size 640x480 with 1 Axes>"
      ]
     },
     "metadata": {},
     "output_type": "display_data"
    }
   ],
   "source": [
    "df3.plot(kind='bar')"
   ]
  },
  {
   "cell_type": "code",
   "execution_count": null,
   "metadata": {},
   "outputs": [
    {
     "data": {
      "text/plain": [
       "'/Users/mike/Project/verified_refactoring/simple-data-science.ipynb'"
      ]
     },
     "metadata": {},
     "output_type": "display_data"
    }
   ],
   "source": [
    "try:\n",
    "    import ipynb_path\n",
    "\n",
    "    __file__ = ipynb_path.get()\n",
    "except:\n",
    "    import os\n",
    "\n",
    "    __file__ = f'{os.getcwd()}/simple-data-science.ipynb'\n",
    "\n",
    "__file__"
   ]
  },
  {
   "cell_type": "code",
   "execution_count": null,
   "metadata": {},
   "outputs": [],
   "source": [
    "# TODO: Known issue: When notebook is opened by PyCharm, some required field is missing. Run this via VSCode will solve all problems."
   ]
  },
  {
   "cell_type": "code",
   "execution_count": null,
   "metadata": {},
   "outputs": [
    {
     "name": "stdout",
     "output_type": "stream",
     "text": [
      "Set current path to: /Users/mike/Project/verified_refactoring/simple-data-science.ipynb\n",
      "Refactoring namespace: Namespace(vars_to_keep='\"df3\"')\n",
      "Current global variables: dict_keys(['In', 'Out', 'exit', 'quit', 'open', 'pd', 'df', 'df2', 'df3', 'os'])\n",
      "code = '#!/usr/bin/env python\\n# coding: utf-8\\n\\n# # Visualize a dataset\\n\\n# In[1]:\\n\\n\\n# ! pip install ipynb-path\\n\\n\\n# In[ ]:\\n\\n\\n\\n\\n\\n# In[2]:\\n\\n\\nimport pandas as pd\\n\\n\\n# In[3]:\\n\\n\\n# Config the pandas dataframe to show in a specific format\\n\\npd.set_option(\\'display.max_columns\\', 10)\\n\\n\\n# Read the dataframe\\n\\n# In[4]:\\n\\n\\ndf = pd.read_csv(\"data.csv\")\\n\\n\\n# In[5]:\\n\\n\\ndf = df[df[\\'a\\'] > 0]\\ndf = df[df[\\'b\\'] < 10]\\n\\n\\n# In[6]:\\n\\n\\ndf.describe()\\n\\n\\n# In[7]:\\n\\n\\ndf.head()\\n\\n\\n# In[8]:\\n\\n\\ndf2 = df[[\\'b\\', \\'a\\']]\\n\\n\\n# In[9]:\\n\\n\\ndf3 = df2.groupby(\\'b\\').mean()\\n\\n\\n# In[10]:\\n\\n\\ndf3\\n\\n\\n# In[11]:\\n\\n\\ndf3.plot()\\n\\n\\n# In[12]:\\n\\n\\ndf3.plot(kind=\\'bar\\')\\n\\n\\n# In[17]:\\n\\n\\ntry:\\n    import ipynb_path\\n\\n    __file__ = ipynb_path.get()\\nexcept:\\n    import os\\n\\n    __file__ = f\\'{os.getcwd()}/simple-data-science.ipynb\\'\\n\\n__file__\\n\\n\\n# In[14]:\\n\\n\\n# TODO: Known issue: When notebook is opened by PyCharm, some required field is missing. Run this via VSCode will solve all problems.\\n\\n\\n# In[15]:\\n\\n\\nget_ipython().run_line_magic(\\'load_ext\\', \\'refactor_extension\\')\\nget_ipython().run_line_magic(\\'reload_ext\\', \\'refactor_extension\\')\\nget_ipython().run_line_magic(\\'refactor_init\\', \\'$__file__\\')\\nget_ipython().run_line_magic(\\'refactor\\', \\'--vars-to-keep \"df3\"\\')\\n\\n\\n# In[ ]:\\n\\n\\n\\n\\n'\n",
      "Calling LLM...\n",
      "LLM result: \n",
      "# %%\n",
      "import pandas as pd\n",
      "\n",
      "# %%\n",
      "# Config the pandas dataframe to show in a specific format\n",
      "\n",
      "pd.set_option('display.max_columns', 10)\n",
      "\n",
      "# %%\n",
      "# Read the dataframe\n",
      "\n",
      "df = pd.read_csv(\"data.csv\")\n",
      "\n",
      "# %%\n",
      "df = df[df['a'] > 0]\n",
      "df = df[df['b'] < 10]\n",
      "\n",
      "# %%\n",
      "df2 = df[['b', 'a']]\n",
      "\n",
      "# %%\n",
      "df3 = df2.groupby('b').mean()\n",
      "\n",
      "# %%\n",
      "df3\n",
      "\n",
      "# %%\n",
      "df3.plot()\n",
      "\n",
      "# %%\n",
      "df3.plot(kind='bar')\n",
      "\n",
      "api_result = '\\n# %%\\nimport pandas as pd\\n\\n# %%\\n# Config the pandas dataframe to show in a specific format\\n\\npd.set_option(\\'display.max_columns\\', 10)\\n\\n# %%\\n# Read the dataframe\\n\\ndf = pd.read_csv(\"data.csv\")\\n\\n# %%\\ndf = df[df[\\'a\\'] > 0]\\ndf = df[df[\\'b\\'] < 10]\\n\\n# %%\\ndf2 = df[[\\'b\\', \\'a\\']]\\n\\n# %%\\ndf3 = df2.groupby(\\'b\\').mean()\\n\\n# %%\\ndf3\\n\\n# %%\\ndf3.plot()\\n\\n# %%\\ndf3.plot(kind=\\'bar\\')\\n'\n"
     ]
    }
   ],
   "source": [
    "%load_ext refactor_extension\n",
    "%reload_ext refactor_extension\n",
    "%refactor_init $__file__\n",
    "%refactor --vars-to-keep \"df3\""
   ]
  }
 ],
 "metadata": {
  "language_info": {
   "name": "python"
  }
 },
 "nbformat": 4,
 "nbformat_minor": 2
}
