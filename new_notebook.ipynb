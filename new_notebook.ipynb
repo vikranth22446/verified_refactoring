{
 "cells": [
  {
   "cell_type": "code",
   "execution_count": 6,
   "metadata": {
    "tags": [
     "refactor"
    ]
   },
   "outputs": [
    {
     "name": "stdout",
     "output_type": "stream",
     "text": [
      "Correlation between data_x and data_y: -0.0016106542147489838\n",
      "Correlation between data_a and data_b: 0.00488164257340865\n"
     ]
    }
   ],
   "source": [
    "import random\n",
    "\n",
    "# Generate random data\n",
    "data_x = []\n",
    "data_y = []\n",
    "for i in range(100):\n",
    "    data_x.append(random.randint(1, 100))\n",
    "    data_y.append(random.randint(1, 100))\n",
    "\n",
    "# Calculate mean of data_x\n",
    "mean_x = 0\n",
    "for i in range(len(data_x)):\n",
    "    mean_x += data_x[i]\n",
    "mean_x = mean_x / len(data_x)\n",
    "\n",
    "# Calculate mean of data_y\n",
    "mean_y = 0\n",
    "for i in range(len(data_y)):\n",
    "    mean_y += data_y[i]\n",
    "mean_y = mean_y / len(data_y)\n",
    "\n",
    "# Calculate numerator for correlation\n",
    "numerator = 0\n",
    "for i in range(len(data_x)):\n",
    "    numerator += (data_x[i] - mean_x) * (data_y[i] - mean_y)\n",
    "\n",
    "# Calculate denominator for correlation\n",
    "denominator_x = 0\n",
    "for i in range(len(data_x)):\n",
    "    denominator_x += (data_x[i] - mean_x) ** 2\n",
    "\n",
    "denominator_y = 0\n",
    "for i in range(len(data_y)):\n",
    "    denominator_y += (data_y[i] - mean_y) ** 2\n",
    "\n",
    "denominator = (denominator_x ** 0.5) * (denominator_y ** 0.5)\n",
    "\n",
    "# Calculate correlation\n",
    "if denominator != 0:\n",
    "    correlation = numerator / denominator\n",
    "else:\n",
    "    correlation = 0\n",
    "\n",
    "# Print results\n",
    "print(\"Correlation between data_x and data_y: \" + str(correlation))\n",
    "\n",
    "# Generate another pair of random lists\n",
    "data_a = []\n",
    "data_b = []\n",
    "for i in range(150):\n",
    "    data_a.append(random.randint(1, 50))\n",
    "    data_b.append(random.randint(1, 50))\n",
    "\n",
    "# Calculate mean of data_a\n",
    "mean_a = 0\n",
    "for i in range(len(data_a)):\n",
    "    mean_a += data_a[i]\n",
    "mean_a = mean_a / len(data_a)\n",
    "\n",
    "# Calculate mean of data_b\n",
    "mean_b = 0\n",
    "for i in range(len(data_b)):\n",
    "    mean_b += data_b[i]\n",
    "mean_b = mean_b / len(data_b)\n",
    "\n",
    "# Calculate numerator for correlation of new lists\n",
    "numerator_ab = 0\n",
    "for i in range(len(data_a)):\n",
    "    numerator_ab += (data_a[i] - mean_a) * (data_b[i] - mean_b)\n",
    "\n",
    "# Calculate denominator for correlation of new lists\n",
    "denominator_a = 0\n",
    "for i in range(len(data_a)):\n",
    "    denominator_a += (data_a[i] - mean_a) ** 2\n",
    "\n",
    "denominator_b = 0\n",
    "for i in range(len(data_b)):\n",
    "    denominator_b += (data_b[i] - mean_b) ** 2\n",
    "\n",
    "denominator_ab = (denominator_a ** 0.5) * (denominator_b ** 0.5)\n",
    "\n",
    "# Calculate correlation of new lists\n",
    "if denominator_ab != 0:\n",
    "    correlation_ab = numerator_ab / denominator_ab\n",
    "else:\n",
    "    correlation_ab = 0\n",
    "\n",
    "# Print results of new lists\n",
    "print(\"Correlation between data_a and data_b: \" + str(correlation_ab))\n"
   ]
  },
  {
   "cell_type": "code",
   "execution_count": null,
   "metadata": {},
   "outputs": [],
   "source": []
  },
  {
   "cell_type": "code",
   "execution_count": null,
   "metadata": {},
   "outputs": [],
   "source": []
  },
  {
   "cell_type": "code",
   "execution_count": 3,
   "metadata": {},
   "outputs": [
    {
     "name": "stdout",
     "output_type": "stream",
     "text": [
      "Correlation between data_x and data_y: -0.02653329528822374\n",
      "Correlation between data_x and data_y: 0.15321615763299218\n"
     ]
    },
    {
     "ename": "AssertionError",
     "evalue": "Expected -1.0, but got -0.9999999999999998",
     "output_type": "error",
     "traceback": [
      "\u001b[0;31m---------------------------------------------------------------------------\u001b[0m",
      "\u001b[0;31mAssertionError\u001b[0m                            Traceback (most recent call last)",
      "Cell \u001b[0;32mIn[3], line 28\u001b[0m\n\u001b[1;32m     26\u001b[0m generate_and_calculate_correlation(\u001b[38;5;241m100\u001b[39m, \u001b[38;5;241m1\u001b[39m, \u001b[38;5;241m100\u001b[39m)\n\u001b[1;32m     27\u001b[0m generate_and_calculate_correlation(\u001b[38;5;241m150\u001b[39m, \u001b[38;5;241m1\u001b[39m, \u001b[38;5;241m50\u001b[39m)\n\u001b[0;32m---> 28\u001b[0m \u001b[43mtest_calculate_correlation\u001b[49m\u001b[43m(\u001b[49m\u001b[43m)\u001b[49m\n",
      "Cell \u001b[0;32mIn[3], line 24\u001b[0m, in \u001b[0;36mtest_calculate_correlation\u001b[0;34m()\u001b[0m\n\u001b[1;32m     22\u001b[0m expected_correlation \u001b[38;5;241m=\u001b[39m \u001b[38;5;241m-\u001b[39m\u001b[38;5;241m1.0\u001b[39m\n\u001b[1;32m     23\u001b[0m result \u001b[38;5;241m=\u001b[39m calculate_correlation(test_data_x, test_data_y)\n\u001b[0;32m---> 24\u001b[0m \u001b[38;5;28;01massert\u001b[39;00m result \u001b[38;5;241m==\u001b[39m expected_correlation, \u001b[38;5;124mf\u001b[39m\u001b[38;5;124m\"\u001b[39m\u001b[38;5;124mExpected \u001b[39m\u001b[38;5;132;01m{\u001b[39;00mexpected_correlation\u001b[38;5;132;01m}\u001b[39;00m\u001b[38;5;124m, but got \u001b[39m\u001b[38;5;132;01m{\u001b[39;00mresult\u001b[38;5;132;01m}\u001b[39;00m\u001b[38;5;124m\"\u001b[39m\n",
      "\u001b[0;31mAssertionError\u001b[0m: Expected -1.0, but got -0.9999999999999998"
     ]
    }
   ],
   "source": [
    "\n",
    "import random\n",
    "\n",
    "def calculate_correlation(data_x, data_y):\n",
    "    mean_x = sum(data_x) / len(data_x)\n",
    "    mean_y = sum(data_y) / len(data_y)\n",
    "    numerator = sum((data_x[i] - mean_x) * (data_y[i] - mean_y) for i in range(len(data_x)))\n",
    "    denominator_x = sum((data_x[i] - mean_x) ** 2 for i in range(len(data_x)))\n",
    "    denominator_y = sum((data_y[i] - mean_y) ** 2 for i in range(len(data_y)))\n",
    "    denominator = (denominator_x ** 0.5) * (denominator_y ** 0.5)\n",
    "    correlation = numerator / denominator if denominator != 0 else 0\n",
    "    return correlation\n",
    "\n",
    "def generate_and_calculate_correlation(size, min_val, max_val):\n",
    "    data_x = [random.randint(min_val, max_val) for _ in range(size)]\n",
    "    data_y = [random.randint(min_val, max_val) for _ in range(size)]\n",
    "    correlation = calculate_correlation(data_x, data_y)\n",
    "    print(f\"Correlation between data_x and data_y: {correlation}\")\n",
    "\n",
    "def test_calculate_correlation():\n",
    "    test_data_x = [1, 2, 3, 4, 5]\n",
    "    test_data_y = [5, 4, 3, 2, 1]\n",
    "    expected_correlation = -1.0\n",
    "    result = calculate_correlation(test_data_x, test_data_y)\n",
    "    assert result == expected_correlation, f\"Expected {expected_correlation}, but got {result}\"\n",
    "\n",
    "generate_and_calculate_correlation(100, 1, 100)\n",
    "generate_and_calculate_correlation(150, 1, 50)\n",
    "test_calculate_correlation()\n"
   ]
  },
  {
   "cell_type": "code",
   "execution_count": null,
   "metadata": {},
   "outputs": [],
   "source": []
  }
 ],
 "metadata": {
  "kernelspec": {
   "display_name": "venv",
   "language": "python",
   "name": "python3"
  },
  "language_info": {
   "codemirror_mode": {
    "name": "ipython",
    "version": 3
   },
   "file_extension": ".py",
   "mimetype": "text/x-python",
   "name": "python",
   "nbconvert_exporter": "python",
   "pygments_lexer": "ipython3",
   "version": "3.11.7"
  }
 },
 "nbformat": 4,
 "nbformat_minor": 2
}
