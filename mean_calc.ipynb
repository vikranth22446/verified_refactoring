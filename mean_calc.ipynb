{
 "cells": [
  {
   "cell_type": "code",
   "execution_count": 3,
   "metadata": {
    "tags": [
     "refactor"
    ]
   },
   "outputs": [
    {
     "name": "stdout",
     "output_type": "stream",
     "text": [
      "Mean: 49.91\n",
      "Median: 50.0\n",
      "Standard Deviation: 26.63872932404998\n",
      "Mean of another dataset: 52.6\n"
     ]
    }
   ],
   "source": [
    "import random\n",
    "import math\n",
    "random.seed(0)\n",
    "# Generate random data\n",
    "data = []\n",
    "for i in range(100):\n",
    "    data.append(random.randint(1, 100))\n",
    "\n",
    "# Calculate mean\n",
    "mean = 0\n",
    "for i in range(len(data)):\n",
    "    mean += data[i]\n",
    "mean = mean / len(data)\n",
    "\n",
    "# Calculate median\n",
    "data.sort()\n",
    "if len(data) % 2 == 0:\n",
    "    median = (data[len(data)//2] + data[len(data)//2 - 1]) / 2\n",
    "else:\n",
    "    median = data[len(data)//2]\n",
    "\n",
    "# Calculate standard deviation\n",
    "sum_diff = 0\n",
    "for i in range(len(data)):\n",
    "    sum_diff += (data[i] - mean) ** 2\n",
    "std_dev = math.sqrt(sum_diff / len(data))\n",
    "\n",
    "# Print results\n",
    "print(\"Mean: \" + str(mean))\n",
    "print(\"Median: \" + str(median))\n",
    "print(\"Standard Deviation: \" + str(std_dev))\n",
    "\n",
    "# Generate a random list of numbers to simulate another dataset\n",
    "another_data = []\n",
    "for i in range(50):\n",
    "    another_data.append(random.randint(1, 100))\n",
    "\n",
    "# Compute the sum of the new dataset\n",
    "total_sum = 0\n",
    "for i in another_data:\n",
    "    total_sum += i\n",
    "\n",
    "# Compute the mean of the new dataset\n",
    "another_mean = total_sum / len(another_data)\n",
    "\n",
    "# Print the mean of the new dataset\n",
    "print(\"Mean of another dataset: \" + str(another_mean))\n"
   ]
  },
  {
   "cell_type": "code",
   "execution_count": 5,
   "metadata": {},
   "outputs": [
    {
     "name": "stdout",
     "output_type": "stream",
     "text": [
      "Mean: 49.91\n",
      "Median: 50.0\n",
      "Standard Deviation: 26.63872932404998\n",
      "Mean of another dataset: 52.6\n"
     ]
    }
   ],
   "source": [
    "\n",
    "import random\n",
    "import math\n",
    "\n",
    "def generate_data(size, min_val, max_val):\n",
    "    return [random.randint(min_val, max_val) for _ in range(size)]\n",
    "\n",
    "def calculate_statistics(data):\n",
    "    mean = sum(data) / len(data)\n",
    "    data.sort()\n",
    "    if len(data) % 2 == 0:\n",
    "        median = (data[len(data)//2] + data[len(data)//2 - 1]) / 2\n",
    "    else:\n",
    "        median = data[len(data)//2]\n",
    "    sum_diff = sum((x - mean) ** 2 for x in data)\n",
    "    std_dev = math.sqrt(sum_diff / len(data))\n",
    "    return mean, median, std_dev\n",
    "\n",
    "def main():\n",
    "    random.seed(0)\n",
    "    data = generate_data(100, 1, 100)\n",
    "    mean, median, std_dev = calculate_statistics(data)\n",
    "    print(\"Mean: \" + str(mean))\n",
    "    print(\"Median: \" + str(median))\n",
    "    print(\"Standard Deviation: \" + str(std_dev))\n",
    "\n",
    "    another_data = generate_data(50, 1, 100)\n",
    "    another_mean = sum(another_data) / len(another_data)\n",
    "    print(\"Mean of another dataset: \" + str(another_mean))\n",
    "\n",
    "main()\n"
   ]
  },
  {
   "cell_type": "code",
   "execution_count": null,
   "metadata": {},
   "outputs": [],
   "source": []
  }
 ],
 "metadata": {
  "kernelspec": {
   "display_name": "venv",
   "language": "python",
   "name": "python3"
  },
  "language_info": {
   "codemirror_mode": {
    "name": "ipython",
    "version": 3
   },
   "file_extension": ".py",
   "mimetype": "text/x-python",
   "name": "python",
   "nbconvert_exporter": "python",
   "pygments_lexer": "ipython3",
   "version": "3.11.7"
  }
 },
 "nbformat": 4,
 "nbformat_minor": 2
}
